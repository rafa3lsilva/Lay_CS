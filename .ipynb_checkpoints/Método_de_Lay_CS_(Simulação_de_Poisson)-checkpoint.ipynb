{
  "nbformat": 4,
  "nbformat_minor": 0,
  "metadata": {
    "colab": {
      "provenance": [],
      "private_outputs": true
    },
    "kernelspec": {
      "name": "python3",
      "display_name": "Python 3"
    },
    "language_info": {
      "name": "python"
    }
  },
  "cells": [
    {
      "cell_type": "code",
      "source": [
        "dia = '2024-05-12'"
      ],
      "metadata": {
        "id": "jMqlYvxI1tPv"
      },
      "execution_count": null,
      "outputs": []
    },
    {
      "cell_type": "code",
      "source": [
        "!pip install pyTelegramBotAPI"
      ],
      "metadata": {
        "collapsed": true,
        "id": "3rpyQ0A2-Rr8"
      },
      "execution_count": null,
      "outputs": []
    },
    {
      "cell_type": "markdown",
      "source": [
        "### Importando as Bibliotecas e Funções"
      ],
      "metadata": {
        "id": "fxFevOAvLm5n"
      }
    },
    {
      "cell_type": "code",
      "source": [
        "import pandas as pd\n",
        "import numpy as np\n",
        "from scipy.stats import poisson\n",
        "import telebot\n",
        "import warnings\n",
        "warnings.filterwarnings(\"ignore\")\n",
        "\n",
        "def drop_reset_index(df):\n",
        "    df = df.dropna()\n",
        "    df = df.reset_index(drop=True)\n",
        "    df.index += 1\n",
        "    return df\n",
        "\n",
        "def simulate_match(home_goals_for, home_goals_against, away_goals_for, away_goals_against, num_simulations=10000, random_seed=42):\n",
        "    np.random.seed(random_seed)\n",
        "    estimated_home_goals = (home_goals_for + away_goals_against) / 2\n",
        "    estimated_away_goals = (away_goals_for + home_goals_against) / 2\n",
        "\n",
        "    home_goals = poisson(estimated_home_goals).rvs(num_simulations)\n",
        "    away_goals = poisson(estimated_away_goals).rvs(num_simulations)\n",
        "\n",
        "    results = pd.DataFrame({\n",
        "        'Home_Goals': home_goals,\n",
        "        'Away_Goals': away_goals\n",
        "    })\n",
        "\n",
        "    return results\n",
        "\n",
        "def top_results_df(simulated_results, top_n):\n",
        "\n",
        "    result_counts = simulated_results.value_counts().head(top_n).reset_index()\n",
        "    result_counts.columns = ['Home_Goals', 'Away_Goals', 'Count']\n",
        "\n",
        "    sum_top_counts = result_counts['Count'].sum()\n",
        "    result_counts['Probability'] = result_counts['Count'] / sum_top_counts\n",
        "\n",
        "    return result_counts"
      ],
      "metadata": {
        "id": "e9Mg-1kHXFRt"
      },
      "execution_count": null,
      "outputs": []
    },
    {
      "cell_type": "code",
      "source": [
        "leagues = ['ARGENTINA - LIGA PROFESIONAL',\n",
        "'ARGENTINA - COPA DE LA LIGA PROFESIONAL',\n",
        "'ARMENIA - PREMIER LEAGUE',\n",
        "'AUSTRALIA - A-LEAGUE',\n",
        "'AUSTRIA - 2. LIGA',\n",
        "'AUSTRIA - BUNDESLIGA',\n",
        "'BELGIUM - CHALLENGER PRO LEAGUE',\n",
        "'BELGIUM - JUPILER PRO LEAGUE',\n",
        "'BOSNIA AND HERZEGOVINA - PREMIJER LIGA BIH',\n",
        "'BRAZIL - COPA DO BRASIL',\n",
        "'BRAZIL - SERIE A',\n",
        "'BRAZIL - SERIE B',\n",
        "'BULGARIA - PARVA LIGA',\n",
        "'CHINA - SUPER LEAGUE',\n",
        "'CROATIA - HNL',\n",
        "'CROATIA - PRVA NL',\n",
        "'CZECH REPUBLIC - FORTUNA:LIGA',\n",
        "'DENMARK - 1ST DIVISION',\n",
        "'DENMARK - SUPERLIGA',\n",
        "'EGYPT - PREMIER LEAGUE',\n",
        "'ENGLAND - CHAMPIONSHIP',\n",
        "'ENGLAND - LEAGUE ONE',\n",
        "'ENGLAND - LEAGUE TWO',\n",
        "'ENGLAND - NATIONAL LEAGUE',\n",
        "'ENGLAND - PREMIER LEAGUE',\n",
        "'ESTONIA - ESILIIGA',\n",
        "'ESTONIA - MEISTRILIIGA',\n",
        "'EUROPE - CHAMPIONS LEAGUE',\n",
        "'EUROPE - EUROPA CONFERENCE LEAGUE',\n",
        "'EUROPE - EUROPA LEAGUE',\n",
        "'FINLAND - VEIKKAUSLIIGA',\n",
        "'FINLAND - YKKONEN',\n",
        "'FRANCE - LIGUE 1',\n",
        "'FRANCE - LIGUE 2',\n",
        "'FRANCE - NATIONAL',\n",
        "'GERMANY - 2. BUNDESLIGA',\n",
        "'GERMANY - 3. LIGA',\n",
        "'GERMANY - BUNDESLIGA',\n",
        "'HUNGARY - OTP BANK LIGA',\n",
        "'ICELAND - BESTA DEILD KARLA',\n",
        "'IRELAND - PREMIER DIVISION',\n",
        "'ITALY - SERIE A',\n",
        "'ITALY - SERIE B',\n",
        "'JAPAN - J1 LEAGUE',\n",
        "'JAPAN - J2 LEAGUE',\n",
        "'MEXICO - LIGA DE EXPANSION MX',\n",
        "'MEXICO - LIGA MX',\n",
        "'NETHERLANDS - EERSTE DIVISIE',\n",
        "'NETHERLANDS - EREDIVISIE',\n",
        "'NORWAY - ELITESERIEN',\n",
        "'NORWAY - OBOS-LIGAEN',\n",
        "'POLAND - EKSTRAKLASA',\n",
        "'PORTUGAL - LIGA PORTUGAL',\n",
        "'PORTUGAL - LIGA PORTUGAL 2',\n",
        "'ROMANIA - LIGA 1',\n",
        "'SAUDI ARABIA - SAUDI PROFESSIONAL LEAGUE',\n",
        "'SCOTLAND - CHAMPIONSHIP',\n",
        "'SCOTLAND - LEAGUE ONE',\n",
        "'SCOTLAND - LEAGUE TWO',\n",
        "'SCOTLAND - PREMIERSHIP',\n",
        "'SERBIA - SUPER LIGA',\n",
        "'SLOVAKIA - NIKE LIGA',\n",
        "'SLOVENIA - PRVA LIGA',\n",
        "'SOUTH AMERICA - COPA LIBERTADORES',\n",
        "'SOUTH AMERICA - COPA SUDAMERICANA',\n",
        "'SOUTH KOREA - K LEAGUE 1',\n",
        "'SOUTH KOREA - K LEAGUE 2',\n",
        "'SPAIN - LALIGA',\n",
        "'SPAIN - LALIGA2',\n",
        "'SWEDEN - ALLSVENSKAN',\n",
        "'SWEDEN - SUPERETTAN',\n",
        "'SWITZERLAND - CHALLENGE LEAGUE',\n",
        "'SWITZERLAND - SUPER LEAGUE',\n",
        "'TURKEY - 1. LIG',\n",
        "'TURKEY - SUPER LIG',\n",
        "'UKRAINE - PREMIER LEAGUE',\n",
        "'USA - MLS',\n",
        "'WALES - CYMRU PREMIER']"
      ],
      "metadata": {
        "id": "26pCkQnqLkyR"
      },
      "execution_count": null,
      "outputs": []
    },
    {
      "cell_type": "markdown",
      "source": [
        "### Importando os Jogos do Dia e a Base de Dados"
      ],
      "metadata": {
        "id": "XyJxPO8YLpi4"
      }
    },
    {
      "cell_type": "code",
      "source": [
        "#jogos_do_dia = pd.read_csv('https://github.com/futpythontrader/YouTube/blob/main/Jogos_do_Dia_FlashScore/'+str(dia)+'_Jogos_do_Dia_FlashScore.csv?raw=true')\n",
        "jogos_do_dia = pd.read_csv(f'https://github.com/futpythontrader/YouTube/blob/main/Jogos_do_Dia/FlashScore/Jogos_do_Dia_FlashScore_{dia}.csv?raw=true')\n",
        "jogos_do_dia = jogos_do_dia[['League','Date','Time','Home','Away','Odd_H','Odd_D','Odd_A']]\n",
        "jogos_do_dia.columns = ['League','Date','Time','Home','Away','Odd_H','Odd_D','Odd_A']\n",
        "Jogos_do_Dia = jogos_do_dia[jogos_do_dia['League'].isin(leagues) == True]\n",
        "Jogos_do_Dia = drop_reset_index(Jogos_do_Dia)\n",
        "Jogos_do_Dia"
      ],
      "metadata": {
        "id": "Iq2241aY1cce"
      },
      "execution_count": null,
      "outputs": []
    },
    {
      "cell_type": "code",
      "source": [
        "Jogos = Jogos_do_Dia.sort_values(by='League')\n",
        "ligas = Jogos['League'].unique()\n",
        "ligas"
      ],
      "metadata": {
        "id": "wSrDNTdCGtPM"
      },
      "execution_count": null,
      "outputs": []
    },
    {
      "cell_type": "code",
      "source": [
        "#base = pd.read_csv(\"https://github.com/futpythontrader/YouTube/blob/main/Base_de_Dados/futpythontraderpunter.csv?raw=true\")\n",
        "base = pd.read_csv(\"https://github.com/futpythontrader/YouTube/blob/main/Bases_de_Dados/FlashScore/Base_de_Dados_FlashScore_v2.csv?raw=true\")\n",
        "base = base[['League','Date','Home','Away','Goals_H','Goals_A','Odd_H','Odd_D','Odd_A']]\n",
        "base.columns = ['League','Date','Home','Away','Goals_H','Goals_A','Odd_H','Odd_D','Odd_A']\n",
        "base = base[base['League'].isin(ligas) == True]\n",
        "base = drop_reset_index(base)\n",
        "\n",
        "n = 5\n",
        "\n",
        "base['Media_GM_H'] = base.groupby('Home')['Goals_H'].rolling(window=n, min_periods=n).mean().reset_index(0,drop=True)\n",
        "base['Media_GM_A'] = base.groupby('Away')['Goals_A'].rolling(window=n, min_periods=n).mean().reset_index(0,drop=True)\n",
        "base['Media_GM_H'] = base.groupby('Home')['Media_GM_H'].shift(1)\n",
        "base['Media_GM_A'] = base.groupby('Away')['Media_GM_A'].shift(1)\n",
        "\n",
        "base['Media_GS_H'] = base.groupby('Home')['Goals_A'].rolling(window=n, min_periods=n).mean().reset_index(0,drop=True)\n",
        "base['Media_GS_A'] = base.groupby('Away')['Goals_H'].rolling(window=n, min_periods=n).mean().reset_index(0,drop=True)\n",
        "base['Media_GS_H'] = base.groupby('Home')['Media_GS_H'].shift(1)\n",
        "base['Media_GS_A'] = base.groupby('Away')['Media_GS_A'].shift(1)\n",
        "\n",
        "base = drop_reset_index(base)\n",
        "\n",
        "base_H = base[['Home','Media_GM_H','Media_GS_H']]\n",
        "base_A = base[['Away','Media_GM_A','Media_GS_A']]"
      ],
      "metadata": {
        "id": "vaITAXfJGmMY"
      },
      "execution_count": null,
      "outputs": []
    },
    {
      "cell_type": "code",
      "source": [
        "# Criando a Lista com os Confrontos\n",
        "Jogos_do_Dia['Jogo'] = Jogos_do_Dia['Home'] + ' x ' + Jogos_do_Dia['Away']\n",
        "lista_confrontos = Jogos_do_Dia['Jogo'].tolist()\n",
        "lista_confrontos"
      ],
      "metadata": {
        "id": "ked5MNv-By98"
      },
      "execution_count": null,
      "outputs": []
    },
    {
      "cell_type": "markdown",
      "source": [
        "### Seleção dos Jogos"
      ],
      "metadata": {
        "id": "FkmflE15LJ2v"
      }
    },
    {
      "cell_type": "code",
      "source": [
        "import ipywidgets as widgets\n",
        "from IPython.display import display\n",
        "\n",
        "# Variável global para armazenar o DataFrame filtrado\n",
        "Jogo = None\n",
        "\n",
        "# Criando o widget Dropdown\n",
        "wid_filtro = widgets.Dropdown(\n",
        "    options=lista_confrontos,\n",
        "    description='Filtro:',\n",
        "    disabled=False,\n",
        ")\n",
        "\n",
        "# Função para filtrar e exibir os dados\n",
        "def func(jogo_selecionado):\n",
        "    global Jogo\n",
        "\n",
        "    # Filtra o DataFrame com base no jogo selecionado\n",
        "    df_filtrado = Jogos_do_Dia[Jogos_do_Dia['Jogo'] == jogo_selecionado]\n",
        "    df_filtrado = df_filtrado[['League','Date','Time','Home','Away','Odd_H','Odd_D','Odd_A']]\n",
        "    df_filtrado = drop_reset_index(df_filtrado)\n",
        "    display(df_filtrado)\n",
        "\n",
        "    # Atualiza a variável global\n",
        "    Jogo = df_filtrado\n",
        "\n",
        "# Criando o interactive widget\n",
        "interactive_plot = widgets.interactive(func, jogo_selecionado=wid_filtro)\n",
        "\n",
        "# Ajustando a altura do output\n",
        "output = interactive_plot.children[-1]\n",
        "output.layout.height = '100px'\n",
        "\n",
        "# Exibindo o widget\n",
        "interactive_plot"
      ],
      "metadata": {
        "id": "YeikmDOtCnAh"
      },
      "execution_count": null,
      "outputs": []
    },
    {
      "cell_type": "code",
      "source": [
        "i = 1\n",
        "\n",
        "last_base_H = base_H.groupby('Home').last().reset_index()\n",
        "last_base_A = base_A.groupby('Away').last().reset_index()\n",
        "\n",
        "df = pd.merge(Jogo, last_base_H, how='left', left_on='Home', right_on='Home')\n",
        "df = pd.merge(df, last_base_A, how='left', left_on='Away', right_on='Away')\n",
        "\n",
        "df = drop_reset_index(df)\n",
        "\n",
        "Liga = df['League'][i]\n",
        "Team_01 = df['Home'][i]\n",
        "Team_02 = df['Away'][i]\n",
        "Time = df['Time'][i]\n",
        "Date = df['Date'][i]\n",
        "\n",
        "Media_GM_H = df['Media_GM_H'][i]\n",
        "Media_GM_A = df['Media_GM_A'][i]\n",
        "\n",
        "Media_GS_H = df['Media_GS_H'][i]\n",
        "Media_GS_A = df['Media_GS_A'][i]\n",
        "\n",
        "simulated_results = simulate_match(Media_GM_H, Media_GS_H, Media_GM_A, Media_GS_H)\n",
        "simulated_results = drop_reset_index(simulated_results)\n",
        "\n",
        "results = top_results_df(simulated_results,10000)\n",
        "results = drop_reset_index(results)\n",
        "\n",
        "results['Placar'] = results.apply(\n",
        "    lambda row: 'Goleada_H' if (row['Home_Goals'] >= 4 and row['Home_Goals'] > row['Away_Goals'])\n",
        "    else 'Goleada_A' if (row['Away_Goals'] >= 4 and row['Away_Goals'] > row['Home_Goals'])\n",
        "    else 'Goleada_D' if (row['Home_Goals'] >= 4 and row['Away_Goals'] >= 4 and row['Home_Goals'] == row['Away_Goals'])\n",
        "    else f\"{int(row['Home_Goals'])}x{int(row['Away_Goals'])}\", axis=1\n",
        ")\n",
        "\n",
        "probabilidade_maxima = 0.08  # Defina a probabilidade mínima desejada\n",
        "\n",
        "results_filtrado = results[results['Probability'] < probabilidade_maxima]\n",
        "#display(results_filtrado)\n",
        "\n",
        "# Arredondar a odd justa para duas casas decimais\n",
        "results_filtrado['Probability'] = results_filtrado['Probability'].round(2)\n",
        "\n",
        "# Calcular as odds justas para os placares selecionados\n",
        "results_filtrado['Odd_Justa'] = 1 / results_filtrado['Probability']\n",
        "\n",
        "# Arredondar a odd justa para duas casas decimais\n",
        "results_filtrado['Odd_Justa'] = results_filtrado['Odd_Justa'].round(2)\n",
        "\n",
        "results_filtrado = results_filtrado.head(5)\n",
        "display(results_filtrado)"
      ],
      "metadata": {
        "id": "60SQ3Zj_Ij9j"
      },
      "execution_count": null,
      "outputs": []
    },
    {
      "cell_type": "code",
      "source": [
        "print(Team_01, 'X' , Team_02)\n",
        " # Defina a responsabilidade total\n",
        "#responsabilidade_total = float(input(\"Responsabilidade: \"))\n",
        "responsabilidade_total = 20\n",
        "# Defina a comissão\n",
        "comissao = 5.6 / 100  # 5.6% de comissão\n",
        "\n",
        "# Informe as odds de mercado para cada placar selecionado\n",
        "odds_mercado = []\n",
        "for placar in results_filtrado['Placar']:\n",
        "    odd_mercado = float(input(f\"Odd de mercado '{placar}': \"))\n",
        "    odds_mercado.append(odd_mercado)\n",
        "\n",
        "# Adicione as odds de mercado ao DataFrame\n",
        "results_filtrado['Odd_Mercado'] = odds_mercado\n",
        "\n",
        "# Calcular a stake para cada placar com base na responsabilidade total\n",
        "stakes = [responsabilidade_total / (odd - 1) for odd in odds_mercado]\n",
        "results_filtrado['Stake'] = stakes\n",
        "\n",
        "# Arredondar a stake para duas casas decimais\n",
        "results_filtrado['Stake'] = results_filtrado['Stake'].round(2)\n",
        "\n",
        "# Calcular o lucro potencial para cada placar\n",
        "lucros_potenciais = [stake * (1 - comissao) for stake in stakes]\n",
        "results_filtrado['Lucro_Potencial'] = lucros_potenciais\n",
        "\n",
        "# Arredondar o lucro potencial para duas casas decimais\n",
        "results_filtrado['Lucro_Potencial'] = results_filtrado['Lucro_Potencial'].round(2)\n",
        "\n",
        "# % de lucro sobre a responsabilidade\n",
        "porcentagem_lucro = [lucros_potenciais / responsabilidade_total * 100 for lucros_potenciais in lucros_potenciais]\n",
        "results_filtrado['%Lucro'] = porcentagem_lucro\n",
        "\n",
        "# Arredondar o lucro potencial para duas casas decimais\n",
        "results_filtrado['%Lucro'] = results_filtrado['%Lucro'].round(2)\n",
        "\n",
        "# Calcular o EV para cada placar comparando a odd de mercado com a odd justa\n",
        "ev = []\n",
        "for index, row in results_filtrado.iterrows():\n",
        "    ev_placar = (1 - comissao) * (row['Odd_Justa'] - 1) - (1 - comissao) * (row['Odd_Mercado'] - 1)\n",
        "    ev.append(ev_placar)\n",
        "\n",
        "# Arredondar a odd justa para duas casas decimais\n",
        "results_filtrado['Odd_Justa'] = results_filtrado['Odd_Justa'].round(2)\n",
        "\n",
        "results_filtrado['EV'] = ev\n",
        "\n",
        "# Verificar se o EV é positivo\n",
        "results_filtrado['EV+'] = results_filtrado['EV'] > 0\n",
        "\n",
        "# Arredondar o EV para duas casas decimais\n",
        "results_filtrado['EV'] = results_filtrado['EV'].round(2)\n",
        "\n",
        "# Filtrar os resultados onde o EV é positivo\n",
        "results_filtrado_ev_positivo = results_filtrado[results_filtrado['EV+']]\n",
        "\n",
        "# Exibir os resultados\n",
        "print(''); print('Resultados com EV positivo:')\n",
        "display(results_filtrado_ev_positivo)\n",
        "print(''); print('')\n",
        "\n",
        "# Calcular o EV médio\n",
        "EV_medio = results_filtrado_ev_positivo['EV'].mean()\n",
        "print(f'EV médio: {round(EV_medio, 2)}')"
      ],
      "metadata": {
        "id": "gUY1ztV3pEN-"
      },
      "execution_count": null,
      "outputs": []
    },
    {
      "cell_type": "code",
      "source": [
        "bot = telebot.TeleBot('7126444301:AAEvf9ywq06y4-XeWFEniZAp4b6SHbL5Yx0')\n",
        "\n",
        "mensagem_inicializacao = \"Atenção! \\nEntrada em Instantes!\"\n",
        "chat_channel = '-1002118767139'\n",
        "bot.send_message(chat_channel, mensagem_inicializacao)"
      ],
      "metadata": {
        "collapsed": true,
        "id": "iQgHihjZ9Z20"
      },
      "execution_count": null,
      "outputs": []
    },
    {
      "cell_type": "code",
      "source": [
        "# Defina as informações da partida\n",
        "partida = Team_01 + ' X ' + Team_02\n",
        "liga = Liga\n",
        "horario = Time\n",
        "\n",
        "# Defina as informações da entrada\n",
        "entrada = str(input(\"entrada: \"))\n",
        "odd_entrada = float(input(\"Odd: \"))\n",
        "#responsabilidade = float(input(\"Responsabilidade: \"))\n",
        "responsabilidade = 85\n",
        "stake = float(responsabilidade/(odd_entrada - 1))\n",
        "comissao = 5.6 / 100  # 5.6% de comissão\n",
        "lucro = stake * (1 - comissao)\n",
        "# Calcular o lucro potencial sobre a responsabilidade\n",
        "possibilidade_lucro = float(round(lucro/ responsabilidade*100,2))  # Em percentagem  # Em percentagem\n",
        "\n",
        "# Defina a gestão sobre a banca\n",
        "gestao_banca = 8.5  # Em percentagem\n",
        "\n",
        "# Formatar a saída\n",
        "saida_formatada = f\"\"\"\n",
        "Partida: {partida}\n",
        "Liga: {liga}\n",
        "Horário: {horario}\n",
        "Entrada: {entrada}\n",
        "Odd: {odd_entrada}\n",
        "Com possibilidade de lucro de {possibilidade_lucro}% sobre a responsabilidade, Gestão de {gestao_banca}% Sobre a Branca!!\n",
        "\"\"\"\n",
        "\n",
        "msg = f\"\"\"\n",
        "############################\n",
        "Projeto Lay Correct Score\n",
        "############################\n",
        "{saida_formatada}\n",
        "        \"\"\"\n",
        "bot.send_message(chat_channel,msg)\n"
      ],
      "metadata": {
        "id": "1KazeysBDxpF"
      },
      "execution_count": null,
      "outputs": []
    }
  ]
}